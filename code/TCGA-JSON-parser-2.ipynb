{
 "cells": [
  {
   "cell_type": "code",
   "execution_count": 6,
   "metadata": {},
   "outputs": [],
   "source": [
    "import json\n",
    "\n",
    "with open('TCGA_legacy_RNAseq_metadata.2018-11-28.json', encoding='utf-8') as data_file:\n",
    "    data = json.loads(data_file.read())"
   ]
  },
  {
   "cell_type": "code",
   "execution_count": 20,
   "metadata": {
    "scrolled": false
   },
   "outputs": [
    {
     "name": "stdout",
     "output_type": "stream",
     "text": [
      "2bb0e784-10fc-4978-b5f3-bfc197438175 RNA ->  08da7c4c-3067-4bcf-9d7a-78566df72e69  and race is  black or african american\n",
      "5e2d5c52-596f-49bc-967c-42129abbacbf RNA ->  b5b99291-507e-4b68-a039-9a0f571f55df  and race is  black or african american\n",
      "95598eda-ba98-4c1d-951b-131e149989e1 RNA ->  5fd9552a-c742-4388-940d-295d1107ae00  and race is  white\n",
      "4637f6a3-9e07-4ac4-be5a-c893a27c8fe2 RNA ->  8785012f-f73e-4d68-87cf-1d804af32782  and race is  black or african american\n",
      "f9e194a1-e5c1-4a1a-840b-4e0246640d09 RNA ->  566792ae-f853-4a47-856d-f02cdcfcb18a  and race is  not reported\n",
      "91714b41-6550-4638-bc95-bd9bd8163f37 RNA ->  ef4cbd38-bc79-4d60-a715-647edd2ebe9e  and race is  black or african american\n",
      "5643f725-6510-4fb3-9faa-44b3124a9ad6 RNA ->  5ed024e8-d05e-4c65-9441-eda9930ccc82  and race is  black or african american\n",
      "52bc932e-fe9b-49ff-8584-2f92e61d5871 RNA ->  6fa2a667-9c36-4526-8a58-1975e863a806  and race is  black or african american\n",
      "e2a25905-7c92-4e43-81c0-d09268014334 RNA ->  4e6edfe6-adcb-4c12-8ff4-38a79f5887e8  and race is  black or african american\n",
      "6070db25-079c-4bfa-889d-e4e447ceea70 RNA ->  1f601832-eee3-48fb-acf5-80c4a454f26e  and race is  white\n",
      "9030ac3f-19d2-4173-9025-87726923621d RNA ->  74f31744-0aed-4633-beec-4e203315f0b7  and race is  white\n",
      "c392b91b-1f08-4e33-9ab7-42ec0fce3b92 RNA ->  05506f4c-e701-4a9d-ae06-97f066aade43  and race is  white\n",
      "68f89489-0460-4e20-b878-7c432907bafc RNA ->  f6e1ec78-5ad9-4879-9b7e-262d17b166ad  and race is  white\n",
      "b6e47b05-afe9-41b5-b040-7fbcc62d4720 RNA ->  60df7543-6da5-4c75-943b-5800c1e08234  and race is  black or african american\n",
      "108e4f62-aa05-4297-9bc2-2fb82d687349 RNA ->  1174f6e4-ffbe-4e59-a000-8d861c968369  and race is  asian\n",
      "67d1ea12-766f-4eb9-af7e-4545975b076c RNA ->  9435447e-d65f-408b-863b-6576b1d652dd  and race is  white\n",
      "9efb4d56-8ada-4280-bb76-b5746e4335b8 RNA ->  4da999a0-ef41-4a0b-b1d1-446b39cc855a  and race is  white\n",
      "3e751a3d-573e-42e1-a361-6303669fb7eb RNA ->  324bcba2-f6a4-45a6-807c-215bdffcca21  and race is  black or african american\n",
      "ab75bca7-5635-4839-a178-120a02ef575f RNA ->  0a2a3529-f645-4967-9a58-89ee20b8bb62  and race is  white\n",
      "117a3e8a-4568-44a6-baee-9a5ab002042d RNA ->  3fc3755d-a3f8-4e2c-813f-ff124f2a75c1  and race is  black or african american\n",
      "3df0cb8f-4559-40ce-bcf4-4b038929fb4e RNA ->  8785012f-f73e-4d68-87cf-1d804af32782  and race is  black or african american\n",
      "8782807a-e8ee-4469-afee-966224f6fdd4 RNA ->  96312510-c126-485d-8109-ed81844a1dc3  and race is  white\n",
      "8d6e5037-8602-4a3f-a580-3f319aeeec8b RNA ->  53886143-c1c6-40e9-88e6-e4e5e0271fc8  and race is  black or african american\n",
      "ae15cbbe-2658-4d9a-ace3-4609df63f512 RNA ->  8bd68696-5eeb-46d7-9dc6-c39c849029a4  and race is  not reported\n",
      "08eca7af-fea6-4691-99d9-ec626d5bb4fa RNA ->  441919eb-8c9f-478c-bda3-8de4f8295e8a  and race is  asian\n",
      "994570f9-404b-471c-a5c3-78e59480dd44 RNA ->  8cf54607-01ce-42b0-9bd9-8627edd9f3b7  and race is  asian\n",
      "9ac00677-9ba1-4ee9-bf02-ecb04533f45d RNA ->  f0787165-6f58-4d67-b510-928eea2c4882  and race is  white\n",
      "cb75fb62-e6e9-4763-a97c-1a2b919adc5a RNA ->  a824b3bd-34d5-4cc1-a92f-f9d6ac0f1814  and race is  asian\n",
      "71b6caef-331d-4331-a42b-4f83dca777d5 RNA ->  75113445-d2d6-44a0-866c-c9175e6d214b  and race is  black or african american\n",
      "fa75cad0-cab6-464d-8fee-147706c3b6e9 RNA ->  aeb6a3a6-b57a-4c53-90e6-e833777dd2a1  and race is  white\n",
      "d06d5373-6a1b-474c-9279-10fcb29f59ba RNA ->  ccd4a24b-d8cc-4686-9dee-c98b0c5a8d21  and race is  black or african american\n",
      "6588314e-69e9-44dc-b7d0-0966c1833608 RNA ->  18eb4dfc-556f-4bf3-a411-4780209ed1e0  and race is  white\n",
      "44047435-3e87-473a-9231-b61fb0d5045b RNA ->  9fefbe7c-f66a-4940-843e-285cb7b392c1  and race is  white\n",
      "305bf2f6-8d2a-47af-8bc3-17460178a66c RNA ->  7861a5f2-8910-4bcb-9c34-f79c5acd6e21  and race is  not reported\n",
      "aaa54a0c-f437-4e0e-ae39-977bebd517bf RNA ->  b58ad350-5140-4fa8-bc2c-24bca8395f3a  and race is  white\n",
      "44daefc1-eb50-4fad-98db-7724c1e2c201 RNA ->  5dd423e8-feaa-4568-a750-500948c41d6c  and race is  black or african american\n",
      "8999059b-74b5-4388-afdb-457c9fd24421 RNA ->  8785012f-f73e-4d68-87cf-1d804af32782  and race is  black or african american\n",
      "29f2019d-5a69-497e-a7ff-73dd35fcaa01 RNA ->  0bc5744c-5fa3-45bb-87d0-70a02068b392  and race is  black or african american\n",
      "59ad0679-53de-4370-86ac-e3a9605f6997 RNA ->  d9dc3b59-613d-469e-8b4f-6c5a557eb26a  and race is  black or african american\n",
      "d4e6dc5c-510c-4431-935a-62105b691699 RNA ->  5d1d00c6-fcae-479e-ae1e-de76efd41d98  and race is  black or african american\n",
      "91a45dff-d6c6-4a30-b79d-475dad0a609e RNA ->  2779fa01-ac93-4e80-a997-3385f72172c3  and race is  not reported\n",
      "55fee8d3-acd5-4366-ac30-c66225debe4d RNA ->  a482fc4c-ff1d-46a0-a968-7df06422cc4b  and race is  black or african american\n",
      "d7877cdd-a69b-4d4c-bb62-d279e18dbf88 RNA ->  233b02f3-c4f0-4a67-9db5-e68d5cdaccb6  and race is  white\n",
      "905f2f5b-4bf9-449c-a070-5d2cce702e29 RNA ->  b43e41af-1d82-4b5f-b8f1-add0510e6b86  and race is  not reported\n",
      "417cb3fa-2125-42ce-a638-51952c81dc2b RNA ->  20e8106b-1290-4735-abe4-7621e08e3dc8  and race is  white\n",
      "4cd84adb-81dd-484f-bd75-4ded4b0bef82 RNA ->  1d27253f-b036-44e7-a04d-8da5bbf57419  and race is  black or african american\n",
      "d7814767-c4ec-43ce-9cb2-646941b2870c RNA ->  a8015490-9740-45c9-8bd2-eb6d1beefc2e  and race is  white\n",
      "0a770cd6-c9b1-4cc4-9e31-1f8a820c5c1f RNA ->  f45210d3-9e66-4f5e-bef1-5ee5547cc893  and race is  black or african american\n",
      "d63ffcfc-a31f-4281-ad8d-2fee7439abe4 RNA ->  733a2a0f-b37a-4b81-b49e-3c0f30d1eb37  and race is  white\n",
      "f5a438d5-ca2b-4d44-8768-97f59f5f27b4 RNA ->  c364e81c-eb1e-4870-ab37-9c661f5f2e3d  and race is  not reported\n",
      "62a348d2-e7fd-48d0-9622-8b485da5e327 RNA ->  eadf8482-e60e-4307-adb7-d5c3b9fa6cae  and race is  black or african american\n",
      "9121500e-1757-4024-963b-2d875e66932f RNA ->  65cac997-4d39-4501-85ec-4fcb328a8eb5  and race is  black or african american\n",
      "76376038-5810-476b-831f-9bb938941243 RNA ->  9d95a65b-e41d-4f93-92d4-99dce29ff40d  and race is  white\n",
      "5b527fb2-9de2-419a-9f62-989333449f6c RNA ->  786e8dbe-442e-4551-87b3-b4c333b04dd4  and race is  white\n",
      "1109f6d7-0ed1-4be3-aa63-71e7da82d57e RNA ->  38a8b734-9acc-42f9-b5b7-e51b0dfc6504  and race is  not reported\n",
      "0915dde6-5839-4705-8d9b-b01a6450feb6 RNA ->  5d8ed961-a012-4b6b-bffb-9468d3953646  and race is  white\n",
      "cc684aee-6d8a-4074-8474-1c4a48dbc8c7 RNA ->  a9b7d7fe-be31-4f71-afee-c1bfdf511888  and race is  black or african american\n",
      "1ca20860-4a2e-4d34-a479-5b56facc2c0a RNA ->  88db1340-e4bf-451a-87c0-6e9168296f5e  and race is  black or african american\n",
      "00f70d11-3b58-4517-82ec-258cced34a60 RNA ->  d6f7afc0-1558-43ad-acb1-2b5311ed2264  and race is  black or african american\n",
      "8a082588-a4f5-4cf4-8a61-fb1a13582026 RNA ->  e9f4f373-37a5-48ad-a1a0-b0d47820111a  and race is  white\n",
      "0eecc108-eaa0-4723-8342-ddc7f91710f9 RNA ->  9938ce5c-e74e-446e-a932-f096f85cc3b1  and race is  white\n",
      "5d84f068-72eb-44aa-ad9d-6f8eaa4a8a32 RNA ->  49717f75-0f2d-4e1c-9a12-f1cd7877b80a  and race is  white\n",
      "a03bda91-0936-4c67-9508-4903f84c980f RNA ->  2a84997d-ccee-4f46-bea2-752534f26416  and race is  black or african american\n",
      "4d845308-2bea-47bd-bf18-e0b3ebcb81a4 RNA ->  b2aac45b-2073-4c7a-adb9-769a4fdcc111  and race is  white\n",
      "6fd76033-7c26-440c-beca-144bd18f7d58 RNA ->  96457ebf-ae88-41f4-97e5-cdc3163418aa  and race is  white\n",
      "1463039d-7953-4216-9e8b-97f681332eff RNA ->  b094e8b2-8ece-4b36-8025-18073a8b873c  and race is  white\n",
      "a79dd5b2-f97a-4b24-b762-fea1cd5238fe RNA ->  084c6aec-94f7-4090-8f3f-59fa9e89721a  and race is  white\n",
      "382d9830-4cd6-4c06-9c87-9a83dd01e25c RNA ->  1b703058-e596-45bc-80fe-8b98d545c2e2  and race is  white\n",
      "45c2cef7-58b5-4e76-abf6-8b88088c6c82 RNA ->  9f6be944-83de-42ab-8738-f0022f475e61  and race is  black or african american\n",
      "a0a07f44-c51b-420c-92e8-65f464db0442 RNA ->  2d29a4ac-98e7-4663-9dd6-5681bc32ac2e  and race is  black or african american\n",
      "d08b9d87-7327-4d2c-8b10-8a3973b99209 RNA ->  1557183c-aedd-4df6-b98a-3654667f7b69  and race is  not reported\n",
      "020873c7-93d7-4eea-b25f-60663417d9bb RNA ->  4bf50455-9ab7-4521-a791-089f66d3b877  and race is  white\n",
      "ef9c0189-9d4c-425c-8c21-7739fac91ee9 RNA ->  44bec761-b603-49c0-8634-f6bfe0319bb1  and race is  not reported\n",
      "46c4652a-ac2b-41db-a17d-02625822027f RNA ->  174850b4-5ec2-462b-a890-89bd1716b3c2  and race is  black or african american\n",
      "03ccc0be-5e48-4577-a4b3-4cd754c917e2 RNA ->  c0892598-1f7b-4f23-9cd8-731f797753d5  and race is  white\n",
      "5324e01d-69f5-4979-903b-7644f3236ee0 RNA ->  f51af6db-2655-47fb-9ffc-83a503a728ea  and race is  white\n",
      "3d3453a8-9260-4bd0-a4e6-a21feabc750c RNA ->  e4fc0909-f284-4471-866d-d8967b6adcbc  and race is  white\n",
      "c3916163-fdc5-4048-9ac4-bf3de91091ce RNA ->  5580b21a-2cdb-4777-ad79-6e06654144f5  and race is  white\n",
      "a39ba4b3-40c6-479c-9407-01616194b057 RNA ->  790ff5db-b7f3-4946-aaed-305f66b1dd6a  and race is  black or african american\n"
     ]
    },
    {
     "name": "stdout",
     "output_type": "stream",
     "text": [
      "8631ada8-2cda-42f7-927e-76a24efa128d RNA ->  f05d314c-5ec5-4e2a-b785-9a702716f111  and race is  white\n",
      "2e125727-43f2-4a9d-8aa7-5d501240c883 RNA ->  b97bf89a-7a85-4eef-ae7e-f787aead1f0a  and race is  black or african american\n",
      "9decb422-2c34-4d7a-bb06-9f7ecfc893e1 RNA ->  d3d545b3-457f-4389-821f-704cb24aff7f  and race is  white\n",
      "f53c3d33-7501-46e1-8125-56fb73083b65 RNA ->  0dca98b0-f43e-45b6-9a02-00092c78678c  and race is  white\n",
      "04a48065-ea14-4c82-82df-b7784d70193a RNA ->  27b05b15-a44b-45ed-a6e3-e7d1ca488ea9  and race is  not reported\n",
      "3387cf11-ce22-4151-869d-47dd9166fcd3 RNA ->  d67cd793-2931-429a-9084-2f3c4c8be7ad  and race is  white\n",
      "9905b104-db34-4cc2-a6b9-bf3fcd21c9cd RNA ->  359f12f9-5c41-48a4-85bc-fd7e307bf7d8  and race is  white\n"
     ]
    }
   ],
   "source": [
    "TCGAsearchlist = [line.rstrip('\\n') for line in open('listofTCGA.txt')]\n",
    "#For each patient in the TCGA legacy RNA system, if any of my RNAseq entries match a patient's RNA, it will return\n",
    "#the corresponding case_id.\n",
    "\n",
    "countvarcheckTCGApatients=0\n",
    "#temppt=data[countvarcheckTCGApatients]\n",
    "#print(temppt.keys())\n",
    "#searchstring=str(temppt)\n",
    "#tempptdata=temppt['cases']\n",
    "#tempptdata=tempptdata[0]\n",
    "#tcgarace=tempptdata['demographic']['race']\n",
    "#print(tcgarace)\n",
    "\n",
    "while countvarcheckTCGApatients < len(data):\n",
    "    temppt=data[countvarcheckTCGApatients]\n",
    "    searchstring=str(temppt)\n",
    "    \n",
    "    for patient in TCGAsearchlist:\n",
    "        if (patient in searchstring):\n",
    "            tempptdata=temppt['cases']\n",
    "            tempptdata=tempptdata[0]\n",
    "            tcgarace=tempptdata['demographic']['race']\n",
    "            print (patient,\"RNA -> \", tempptdata['case_id'],\" and race is \", tcgarace)\n",
    "        else: pass\n",
    "    countvarcheckTCGApatients=countvarcheckTCGApatients+1"
   ]
  },
  {
   "cell_type": "code",
   "execution_count": null,
   "metadata": {},
   "outputs": [],
   "source": []
  }
 ],
 "metadata": {
  "kernelspec": {
   "display_name": "Python 3",
   "language": "python",
   "name": "python3"
  },
  "language_info": {
   "codemirror_mode": {
    "name": "ipython",
    "version": 3
   },
   "file_extension": ".py",
   "mimetype": "text/x-python",
   "name": "python",
   "nbconvert_exporter": "python",
   "pygments_lexer": "ipython3",
   "version": "3.5.6"
  }
 },
 "nbformat": 4,
 "nbformat_minor": 2
}
